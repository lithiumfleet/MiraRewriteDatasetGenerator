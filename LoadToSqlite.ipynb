{
 "cells": [
  {
   "cell_type": "code",
   "execution_count": 1,
   "metadata": {},
   "outputs": [],
   "source": [
    "import sqlite3\n",
    "import pandas as pd\n",
    "import json\n",
    "import numpy as np\n"
   ]
  },
  {
   "cell_type": "code",
   "execution_count": 2,
   "metadata": {},
   "outputs": [],
   "source": [
    "df1 = pd.read_parquet('data/train-00000-of-00002.parquet')\n",
    "df2 = pd.read_parquet('data/train-00000-of-00002.parquet')"
   ]
  },
  {
   "cell_type": "code",
   "execution_count": 3,
   "metadata": {},
   "outputs": [],
   "source": [
    "df = pd.concat([df1, df2], axis=0).reset_index(drop=True)"
   ]
  },
  {
   "cell_type": "code",
   "execution_count": 4,
   "metadata": {},
   "outputs": [
    {
     "data": {
      "text/plain": [
       "'[{\"from\": \"human\", \"value\": \"在一个尚未被公开的领域中，描述五个最具创新性的产品概念。\"}, {\"from\": \"gpt\", \"value\": \"在探索未来可能的创新产品时，我们可以设想一些基于当前科技趋势和人类需求的概念。以下是五个在尚未被公开的领域中，具有高度创新性的产品概念：\\\\n\\\\n1. **智能健康监测织物**：这种织物可以嵌入衣物中，能够实时监测穿戴者的心率、血压、血糖水平等健康指标，同时还能检测环境中的污染物，如PM2.5、有害气体等。通过与智能手机或智能手表的连接，用户可以随时查看自己的健康状况和环境安全信息，实现个性化健康管理。\\\\n\\\\n2. **虚拟现实教育平台**：一个完全沉浸式的虚拟现实教育系统，能够根据学生的学习进度和兴趣，自动生成个性化的学习路径。学生可以在虚拟环境中与历史人物对话，亲身体验科学实验，甚至探索遥远的星系，使学习过程更加生动、直观和高效。\\\\n\\\\n3. **智能城市生态系统**：一个集成的智能城市平台，能够优化城市资源的分配和使用，如智能交通系统、自动化的垃圾回收和处理、智能能源管理等。通过大数据分析和人工智能，该系统可以预测和解决城市中的各种问题，提高居民的生活质量和城市的可持续性。\\\\n\\\\n4. **个性化营养食品打印机**：一种能够根据个人的健康状况、口味偏好和营养需求，定制化打印食品的设备。用户只需输入自己的信息，设备就能自动调整食材比例，打印出既美味又健康的食品，满足个性化饮食需求。\\\\n\\\\n5. **情感智能机器人伴侣**：一个能够理解人类情感并提供情感支持的机器人。它不仅能够进行日常对话，还能识别用户的情绪变化，提供安慰、鼓励或建议。这种机器人可以成为老年人、孤独症患者或需要情感支持的人的忠实伴侣，帮助他们更好地应对生活中的挑战。\\\\n\\\\n这些概念展示了科技如何在未被充分探索的领域中，为人类带来更健康、更智能、更个性化的生活体验。\"}]'"
      ]
     },
     "execution_count": 4,
     "metadata": {},
     "output_type": "execute_result"
    }
   ],
   "source": [
    "json.dumps(df['conversations'][2].tolist(), ensure_ascii=False)"
   ]
  },
  {
   "cell_type": "code",
   "execution_count": 5,
   "metadata": {},
   "outputs": [],
   "source": [
    "def convert_handler(x):\n",
    "    if isinstance(x, str):\n",
    "        return x\n",
    "    elif isinstance(x, np.ndarray):\n",
    "        return json.dumps(x.tolist(), ensure_ascii=False)\n",
    "    else:\n",
    "        return str(x)\n",
    "\n",
    "df = df.map(convert_handler)"
   ]
  },
  {
   "cell_type": "code",
   "execution_count": 6,
   "metadata": {},
   "outputs": [
    {
     "name": "stdout",
     "output_type": "stream",
     "text": [
      "['uuid', 'model', 'gen_input_configs', 'instruction', 'response', 'conversations', 'task_category', 'other_task_category', 'task_category_generator', 'difficulty', 'intent', 'knowledge', 'difficulty_generator', 'input_quality', 'quality_explanation', 'quality_generator', 'llama_guard_2', 'reward_model', 'instruct_reward', 'min_neighbor_distance', 'repeat_count', 'min_similar_uuid', 'instruction_length', 'response_length', 'language']\n"
     ]
    }
   ],
   "source": [
    "print(df.columns.tolist())"
   ]
  },
  {
   "cell_type": "code",
   "execution_count": 7,
   "metadata": {},
   "outputs": [],
   "source": [
    "conn = sqlite3.connect(\"./data/magpieQwen.db\")\n",
    "df.to_sql(\"train\", conn, if_exists=\"replace\", index=True)\n",
    "conn.close()"
   ]
  },
  {
   "cell_type": "code",
   "execution_count": null,
   "metadata": {},
   "outputs": [],
   "source": []
  }
 ],
 "metadata": {
  "kernelspec": {
   "display_name": ".env",
   "language": "python",
   "name": "python3"
  },
  "language_info": {
   "codemirror_mode": {
    "name": "ipython",
    "version": 3
   },
   "file_extension": ".py",
   "mimetype": "text/x-python",
   "name": "python",
   "nbconvert_exporter": "python",
   "pygments_lexer": "ipython3",
   "version": "3.12.1"
  }
 },
 "nbformat": 4,
 "nbformat_minor": 2
}
