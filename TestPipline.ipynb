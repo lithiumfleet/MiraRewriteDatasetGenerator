{
 "cells": [
  {
   "cell_type": "code",
   "execution_count": 1,
   "metadata": {},
   "outputs": [],
   "source": [
    "import json\n",
    "from openai import OpenAI\n",
    "from pydantic import BaseModel"
   ]
  },
  {
   "cell_type": "code",
   "execution_count": 2,
   "metadata": {},
   "outputs": [],
   "source": [
    "# Options\n",
    "class Opt:\n",
    "    apikey = \"sk-a0e74b59372f4cf7ab4b6bfd5d3c718d\"\n",
    "    baseurl = \"https://api.deepseek.com/v1\"\n",
    "    dataset_path:str = \"data/sharegpt_zh_38K_format.jsonl\"\n",
    "    dataset:list = []"
   ]
  },
  {
   "cell_type": "code",
   "execution_count": 3,
   "metadata": {},
   "outputs": [],
   "source": [
    "class Msg(BaseModel):\n",
    "    role: str\n",
    "    content: str\n",
    "\n",
    "client = OpenAI(api_key=Opt.apikey, base_url=Opt.baseurl)\n",
    "def chat(client:OpenAI, question:str, history:list[Msg]=[], verbose:bool=True, temperature=0.0) -> tuple[str, list]:\n",
    "    history.append({\"role\":\"user\", \"content\":question})\n",
    "    response = client.chat.completions.create(\n",
    "        model=\"deepseek-chat\",\n",
    "        messages=history,\n",
    "        stream=False,\n",
    "        temperature=temperature\n",
    "    )\n",
    "    resp = response.choices[0].message.content\n",
    "    if verbose: print(resp)\n",
    "    history.append({\"role\":\"assistant\", \"content\":resp})\n",
    "    return resp, history\n"
   ]
  },
  {
   "cell_type": "code",
   "execution_count": 4,
   "metadata": {},
   "outputs": [],
   "source": [
    "quest = \"python sqlite3 中的fetchmany怎么用？\"\n",
    "ori_hist = [{\"role\":\"system\", \"content\":\"请根据我提出的问题扮演相应领域的专业人士回答问题，请尽可能详细，全面地回答。可以借助实际例子或生动的比喻说明回答中较为晦涩的部分。如果我的问题描述不够详细、过于宽泛，请猜测我的接下来要问什么或我的意图是什么并提前回答。\"}]\n",
    "resp, _ = chat(client, quest, ori_hist)"
   ]
  },
  {
   "cell_type": "code",
   "execution_count": null,
   "metadata": {},
   "outputs": [
    {
     "name": "stdout",
     "output_type": "stream",
     "text": [
      "阅读以下资料并完成我提出的任务：\n",
      "在Python中使用`sqlite3`模块时，`fetchmany`方法用于从查询结果中获取指定数量的记录。这个方法特别适用于处理大量数据时，避免一次性将所有数据加载到内存中，从而提高性能。\n",
      "\n",
      "下面是一个详细的示例，展示如何使用`fetchmany`方法：\n",
      "\n",
      "```python\n",
      "import sqlite3\n",
      "\n",
      "# 连接到SQLite数据库\n",
      "# 如果数据库不存在，会自动在当前目录创建一个数据库文件\n",
      "conn = sqlite3.connect('example.db')\n",
      "cursor = conn.cursor()\n",
      "\n",
      "# 创建一个示例表\n",
      "cursor.execute('''\n",
      "CREATE TABLE IF NOT EXISTS users (\n",
      "    id INTEGER PRIMARY KEY,\n",
      "    name TEXT,\n",
      "    age INTEGER\n",
      ")\n",
      "''')\n",
      "\n",
      "# 插入一些示例数据\n",
      "cursor.execute(\"INSERT INTO users (name, age) VALUES ('Alice', 30)\")\n",
      "cursor.execute(\"INSERT INTO users (name, age) VALUES ('Bob', 25)\")\n",
      "cursor.execute(\"INSERT INTO users (name, age) VALUES ('Charlie', 35)\")\n",
      "cursor.execute(\"INSERT INTO users (name, age) VALUES ('David', 28)\")\n",
      "cursor.execute(\"INSERT INTO users (name, age) VALUES ('Eve', 22)\")\n",
      "\n",
      "# 提交事务\n",
      "conn.commit()\n",
      "\n",
      "# 查询数据并使用fetchmany获取指定数量的记录\n",
      "cursor.execute(\"SELECT * FROM users\")\n",
      "\n",
      "# 使用fetchmany获取3条记录\n",
      "rows = cursor.fetchmany(3)\n",
      "print(\"First 3 rows:\")\n",
      "for row in rows:\n",
      "    print(row)\n",
      "\n",
      "# 再次使用fetchmany获取接下来的2条记录\n",
      "rows = cursor.fetchmany(2)\n",
      "print(\"\\nNext 2 rows:\")\n",
      "for row in rows:\n",
      "    print(row)\n",
      "\n",
      "# 关闭连接\n",
      "cursor.close()\n",
      "conn.close()\n",
      "```\n",
      "\n",
      "在这个示例中，我们首先连接到一个SQLite数据库，并创建一个名为`users`的表。然后，我们插入一些示例数据，并使用`fetchmany`方法分批获取这些数据。\n",
      "\n",
      "### 详细解释\n",
      "\n",
      "1. **连接到数据库**：\n",
      "   ```python\n",
      "   conn = sqlite3.connect('example.db')\n",
      "   cursor = conn.cursor()\n",
      "   ```\n",
      "   这行代码创建了一个到数据库的连接，并获取了一个游标对象，用于执行SQL语句。\n",
      "\n",
      "2. **创建表和插入数据**：\n",
      "   ```python\n",
      "   cursor.execute('''\n",
      "   CREATE TABLE IF NOT EXISTS users (\n",
      "       id INTEGER PRIMARY KEY,\n",
      "       name TEXT,\n",
      "       age INTEGER\n",
      "   )\n",
      "   ''')\n",
      "   cursor.execute(\"INSERT INTO users (name, age) VALUES ('Alice', 30)\")\n",
      "   cursor.execute(\"INSERT INTO users (name, age) VALUES ('Bob', 25)\")\n",
      "   cursor.execute(\"INSERT INTO users (name, age) VALUES ('Charlie', 35)\")\n",
      "   cursor.execute(\"INSERT INTO users (name, age) VALUES ('David', 28)\")\n",
      "   cursor.execute(\"INSERT INTO users (name, age) VALUES ('Eve', 22)\")\n",
      "   conn.commit()\n",
      "   ```\n",
      "   这部分代码创建了一个表并插入了一些数据。`conn.commit()`用于提交事务，确保数据被写入数据库。\n",
      "\n",
      "3. **使用`fetchmany`获取数据**：\n",
      "   ```python\n",
      "   cursor.execute(\"SELECT * FROM users\")\n",
      "   rows = cursor.fetchmany(3)\n",
      "   print(\"First 3 rows:\")\n",
      "   for row in rows:\n",
      "       print(row)\n",
      "   rows = cursor.fetchmany(2)\n",
      "   print(\"\\nNext 2 rows:\")\n",
      "   for row in rows:\n",
      "       print(row)\n",
      "   ```\n",
      "   这部分代码执行了一个查询，并使用`fetchmany(3)`获取前3条记录，然后再次使用`fetchmany(2)`获取接下来的2条记录。\n",
      "\n",
      "4. **关闭连接**：\n",
      "   ```python\n",
      "   cursor.close()\n",
      "   conn.close()\n",
      "   ```\n",
      "   最后，我们关闭了游标和数据库连接，释放资源。\n",
      "\n",
      "### 注意事项\n",
      "\n",
      "- `fetchmany`方法的参数是一个整数，表示要获取的记录数量。如果不传参数，它会使用`cursor`对象的`arraysize`属性值，默认是1。\n",
      "- `fetchmany`返回一个包含记录的列表，每条记录是一个元组。如果没有更多记录，返回一个空列表。\n",
      "- `fetchmany`方法可以多次调用，每次调用会从上次获取的位置继续获取记录。\n",
      "\n",
      "通过这种方式，你可以有效地处理大量数据，避免内存不足的问题。\n",
      "\n",
      "【任务】阅读以上资料，用一小段话简洁地回答\"python sqlite3 中的fetchmany怎么用？\"。如果需要总结的内容有多个并列条目，请抽取最重要的一点进行总结，其他情况直接带过。如果一定需要总结代码（即没有代码就完全不能回答问题的情况），代码的实现思路即可，不要在回答中给出任何纯代码。\n"
     ]
    }
   ],
   "source": [
    "squeeze_prompt = f\"\"\"阅读以下资料并完成我提出的任务：\n",
    "{resp}\n",
    "\n",
    "【任务】阅读以上资料，用一小段话简洁地回答\"{quest}\"。如果需要总结的内容有多个并列条目，请抽取最重要的一点进行总结，其他情况直接带过。如果一定需要总结代码（即没有代码就完全不能回答问题的情况），代码的实现思路即可，不要在回答中给出任何纯代码。\"\"\"\n",
    "print(squeeze_prompt)"
   ]
  },
  {
   "cell_type": "code",
   "execution_count": null,
   "metadata": {},
   "outputs": [
    {
     "name": "stdout",
     "output_type": "stream",
     "text": [
      "在Python的`sqlite3`模块中，`fetchmany`方法用于从查询结果中分批获取指定数量的记录，避免一次性加载所有数据到内存中，从而提高性能。通过指定参数，可以控制每次获取的记录数量，并且可以多次调用该方法以逐步获取所有记录。\n"
     ]
    }
   ],
   "source": [
    "new_resp, _ = chat(client, squeeze_prompt, temperature=0.7)"
   ]
  },
  {
   "cell_type": "code",
   "execution_count": null,
   "metadata": {},
   "outputs": [
    {
     "name": "stdout",
     "output_type": "stream",
     "text": [
      "假设这是两个可爱的女孩子正在网上交流。女孩们都喜欢的话题是动漫、科技、宠物、甜点，是二次元宅女。她们对编程、电子、自然科学、法律金融等专业有深入了解，她们都喜欢使用颜文字。\n",
      "请用更加符合人物设定的语气风格改写这段对话，不改变原文意思，不改变专业词汇。需要使用缩略语，网络用语，简称代称，省略主语定语等方法达成简洁的网络对话效果。可以加入语气词和从句，使用同音不同字的语气后缀。：\n",
      "\n",
      "A：python sqlite3 中的fetchmany怎么用？\n",
      "B：在Python的`sqlite3`模块中，`fetchmany`方法用于从查询结果中分批获取指定数量的记录，避免一次性加载所有数据到内存中，从而提高性能。通过指定参数，可以控制每次获取的记录数量，并且可以多次调用该方法以逐步获取所有记录。\n",
      "\n",
      "按照json格式输出改写后的对话。示例输出：\n",
      "{\n",
      "    \"A\":\"abcd\",\n",
      "    \"B\":\"efgh\"\n",
      "}\n",
      "\n"
     ]
    }
   ],
   "source": [
    "addtone_prompt = f\"\"\"假设这是两个可爱的女孩子正在网上交流。女孩们都喜欢的话题是动漫、科技、宠物、甜点，是二次元宅女。她们对编程、电子、自然科学、法律金融等专业有深入了解，她们都喜欢使用颜文字。\n",
    "请用更加符合人物设定的语气风格改写这段对话，不改变原文意思，不改变专业词汇。需要使用缩略语，网络用语，简称代称，省略主语定语等方法达成简洁的网络对话效果。可以加入语气词和从句，使用同音不同字的语气后缀。：\n",
    "\n",
    "A：{quest}\n",
    "B：{new_resp}\n",
    "\n",
    "按照json格式输出改写后的对话。示例输出：\"\"\"+\\\n",
    "\"\"\"\n",
    "{\n",
    "    \"A\":\"abcd\",\n",
    "    \"B\":\"efgh\"\n",
    "}\n",
    "\"\"\"\n",
    "print(addtone_prompt)"
   ]
  },
  {
   "cell_type": "code",
   "execution_count": null,
   "metadata": {},
   "outputs": [
    {
     "name": "stdout",
     "output_type": "stream",
     "text": [
      "```json\n",
      "{\n",
      "    \"A\": \"py里sqlite3的fetchmany咋用？\",\n",
      "    \"B\": \"在py的`sqlite3`模块，`fetchmany`方法超实用，可以从查询结果里分批捞数据，避免一次全加载到内存，性能upup！指定参数就能控制每次捞的数量，多次调用慢慢捞完所有记录～\"\n",
      "}\n",
      "```\n"
     ]
    }
   ],
   "source": [
    "toneresp, _ = chat(client, addtone_prompt, verbose=False, temperature=0.7)\n",
    "print(toneresp)"
   ]
  },
  {
   "cell_type": "code",
   "execution_count": null,
   "metadata": {},
   "outputs": [
    {
     "name": "stdout",
     "output_type": "stream",
     "text": [
      "Q: python sqlite3 中的fetchmany怎么用？\n",
      "A: 在py的`sqlite3`模块，`fetchmany`方法超实用，可以从查询结果里分批捞数据，避免一次全加载到内存，性能upup！指定参数就能控制每次捞的数量，多次调用慢慢捞完所有记录～\n"
     ]
    }
   ],
   "source": [
    "l = toneresp.find('```json')+7\n",
    "r = toneresp.find('```',l)\n",
    "print(f\"Q: {quest}\")\n",
    "print(f\"A: {json.loads(toneresp[l:r])[\"B\"]}\")"
   ]
  },
  {
   "cell_type": "code",
   "execution_count": null,
   "metadata": {},
   "outputs": [],
   "source": []
  }
 ],
 "metadata": {
  "kernelspec": {
   "display_name": "base",
   "language": "python",
   "name": "python3"
  },
  "language_info": {
   "codemirror_mode": {
    "name": "ipython",
    "version": 3
   },
   "file_extension": ".py",
   "mimetype": "text/x-python",
   "name": "python",
   "nbconvert_exporter": "python",
   "pygments_lexer": "ipython3",
   "version": "3.12.1"
  }
 },
 "nbformat": 4,
 "nbformat_minor": 2
}
