{
 "cells": [
  {
   "cell_type": "code",
   "execution_count": 1,
   "metadata": {},
   "outputs": [],
   "source": [
    "from functools import cache\n",
    "import json\n",
    "from typing import Protocol\n",
    "from dataclasses import dataclass\n",
    "import yaml\n",
    "from APITool import Msg, chat, Messages, create_client\n",
    "from DBTool import DatabaseLike, SQliteDB\n",
    "\n",
    "\n",
    "\n",
    "\n",
    "class PiplineLike(Protocol):\n",
    "    def invoke(self, sample:Messages) -> Messages: ...\n",
    "\n",
    "class Rewriter:\n",
    "    @dataclass\n",
    "    class _Prompt:\n",
    "        prompt:str\n",
    "        temperature:float\n",
    "        fewshot:list[Messages]\n",
    "\n",
    "        def apply(self, user:str, assistant:str) -> str:\n",
    "            # may add few shots next time\n",
    "            replaced_prompt = self.prompt.replace(\"{{user}}\", user).replace(\"{{assistant}}\", assistant)\n",
    "            return replaced_prompt\n",
    "\n",
    "\n",
    "    @staticmethod\n",
    "    def _read_yaml_prompt_file(file_path:str) -> list[_Prompt]:\n",
    "        with open(file_path, encoding='u8') as f:\n",
    "            results = yaml.safe_load(f)\n",
    "        assert len(results) > 0, f\"{file_path} is an empty file\"\n",
    "        return [Rewriter._Prompt(**res) for res in results]\n",
    "\n",
    "    def __init__(self, prompt_path:str) -> None:\n",
    "        self.steps:list[Rewriter._Prompt] = self._read_yaml_prompt_file(prompt_path)\n",
    "        self._client = create_client()\n",
    "\n",
    "    def invoke(self, sample:Messages) -> Messages:\n",
    "        assert len(sample) == 2\n",
    "        user:str = sample[0][\"content\"]\n",
    "        assistant:str = sample[1][\"content\"]\n",
    "        for curstep in self.steps:\n",
    "            assistant, _ = chat(self._client, curstep.apply(user, assistant), temperature=curstep.temperature)\n",
    "        # post process\n",
    "        l = assistant.find('```json')+7\n",
    "        r = assistant.find('```',l)\n",
    "        assistant = json.loads(assistant[l:r])[\"B\"]\n",
    "        \n",
    "        result = [Msg(\"user\", user), Msg(\"assistant\", assistant)]\n",
    "        return result\n",
    "\n",
    "    @classmethod\n",
    "    def from_prompt_file(cls, file_path:str) -> 'Rewriter':\n",
    "        return cls(file_path)\n",
    "\n",
    "\n",
    "@cache\n",
    "def get_random_conv(db:DatabaseLike, num:int, seed:float=114.514) -> list[Messages]:\n",
    "    result = db.random_get(num,seed)\n",
    "    conversations = [res[6] for res in result]\n",
    "    conversations = map(\n",
    "        lambda x: \n",
    "            x.replace('\"from\": \"human\"', '\"role\": \"user\"')\n",
    "             .replace('\"from\": \"gpt\"', '\"role\": \"assistant\"')\n",
    "             .replace('\"value\"', '\"content\"'),\n",
    "        conversations\n",
    "        )\n",
    "    result = [json.loads(conv) for conv in conversations]\n",
    "    return result\n",
    "\n",
    "def apply_pipline(pipline:PiplineLike, sample:Messages) -> Messages:\n",
    "    result = pipline.invoke(sample)\n",
    "    return result\n"
   ]
  },
  {
   "cell_type": "code",
   "execution_count": 2,
   "metadata": {},
   "outputs": [],
   "source": [
    "db = SQliteDB.connect_db(\"./data/magpieQwen.db\")"
   ]
  },
  {
   "cell_type": "code",
   "execution_count": 4,
   "metadata": {},
   "outputs": [
    {
     "name": "stdout",
     "output_type": "stream",
     "text": [
      "[\n",
      "user: 假设你需要自助机器人为一个在线销售平台开发一套有利于吸引顾客的自主推荐策略。请根据客户数据（例如浏览历史、购物车项目、购买历史、个人喜好，等等）与产品信息（例如类别信息、销售数量、评价、物品标签，等等）进行输出。\n",
      ", \n",
      "assistant: 明白了！首先得收集并预处理客户数据和产品信息，然后构建用户画像和商品分析，选个合适的推荐算法，设计个性化推荐、热门商品推荐、交叉销售等策略。实时更新优化，同时确保隐私保护合规。这样能提升用户体验和商业价值哦~ (๑•̀ㅂ•́)و✧\n",
      "]\n",
      "[\n",
      "user: 利用机器学习算法预测用户对于某种商品的偏好\n",
      ", \n",
      "assistant: 首先得收集和预处理用户行为和商品信息数据，然后搞特征工程，选个合适的模型，比如协同过滤、矩阵分解或者深度学习模型，训练评估一下，最后优化部署，就能实现个性化推荐啦~ (≧▽≦)\n",
      "]\n"
     ]
    }
   ],
   "source": [
    "# main\n",
    "pipline = Rewriter.from_prompt_file(\"PiplinePrompt.yaml\")\n",
    "samples = get_random_conv(db, 2)\n",
    "for samp in samples:\n",
    "    results = apply_pipline(pipline, samp)\n",
    "    print(results)\n"
   ]
  },
  {
   "cell_type": "code",
   "execution_count": null,
   "metadata": {},
   "outputs": [],
   "source": [
    "db.close()"
   ]
  },
  {
   "cell_type": "code",
   "execution_count": null,
   "metadata": {},
   "outputs": [],
   "source": []
  }
 ],
 "metadata": {
  "kernelspec": {
   "display_name": ".env",
   "language": "python",
   "name": "python3"
  },
  "language_info": {
   "codemirror_mode": {
    "name": "ipython",
    "version": 3
   },
   "file_extension": ".py",
   "mimetype": "text/x-python",
   "name": "python",
   "nbconvert_exporter": "python",
   "pygments_lexer": "ipython3",
   "version": "3.12.1"
  }
 },
 "nbformat": 4,
 "nbformat_minor": 2
}
